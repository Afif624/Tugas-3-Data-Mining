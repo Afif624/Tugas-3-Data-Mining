{
  "cells": [
    {
      "cell_type": "code",
      "execution_count": 1,
      "metadata": {
        "id": "d5qxNAk19Wqf"
      },
      "outputs": [],
      "source": [
        "import numpy as np\n",
        "import matplotlib.pyplot as plt\n",
        "import pandas as pd"
      ]
    },
    {
      "cell_type": "code",
      "execution_count": 2,
      "metadata": {
        "colab": {
          "base_uri": "https://localhost:8080/",
          "height": 206
        },
        "id": "Ogvvv3R5_x8n",
        "outputId": "c84276d3-7c62-4fe1-f26c-fe58c1fe7df2"
      },
      "outputs": [
        {
          "output_type": "execute_result",
          "data": {
            "text/plain": [
              "        Country        Date   Cases  Deaths\n",
              "0        Guinea  2014-08-29   648.0     430\n",
              "1       Nigeria  2014-08-29    19.0       7\n",
              "2  Sierra Leone  2014-08-29  1026.0     422\n",
              "3       Liberia  2014-08-29  1378.0     694\n",
              "4  Sierra Leone  2014-09-05  1261.0     491"
            ],
            "text/html": [
              "\n",
              "  <div id=\"df-0abf72f5-3f7e-43df-82a1-ec0da4f1b7a9\">\n",
              "    <div class=\"colab-df-container\">\n",
              "      <div>\n",
              "<style scoped>\n",
              "    .dataframe tbody tr th:only-of-type {\n",
              "        vertical-align: middle;\n",
              "    }\n",
              "\n",
              "    .dataframe tbody tr th {\n",
              "        vertical-align: top;\n",
              "    }\n",
              "\n",
              "    .dataframe thead th {\n",
              "        text-align: right;\n",
              "    }\n",
              "</style>\n",
              "<table border=\"1\" class=\"dataframe\">\n",
              "  <thead>\n",
              "    <tr style=\"text-align: right;\">\n",
              "      <th></th>\n",
              "      <th>Country</th>\n",
              "      <th>Date</th>\n",
              "      <th>Cases</th>\n",
              "      <th>Deaths</th>\n",
              "    </tr>\n",
              "  </thead>\n",
              "  <tbody>\n",
              "    <tr>\n",
              "      <th>0</th>\n",
              "      <td>Guinea</td>\n",
              "      <td>2014-08-29</td>\n",
              "      <td>648.0</td>\n",
              "      <td>430</td>\n",
              "    </tr>\n",
              "    <tr>\n",
              "      <th>1</th>\n",
              "      <td>Nigeria</td>\n",
              "      <td>2014-08-29</td>\n",
              "      <td>19.0</td>\n",
              "      <td>7</td>\n",
              "    </tr>\n",
              "    <tr>\n",
              "      <th>2</th>\n",
              "      <td>Sierra Leone</td>\n",
              "      <td>2014-08-29</td>\n",
              "      <td>1026.0</td>\n",
              "      <td>422</td>\n",
              "    </tr>\n",
              "    <tr>\n",
              "      <th>3</th>\n",
              "      <td>Liberia</td>\n",
              "      <td>2014-08-29</td>\n",
              "      <td>1378.0</td>\n",
              "      <td>694</td>\n",
              "    </tr>\n",
              "    <tr>\n",
              "      <th>4</th>\n",
              "      <td>Sierra Leone</td>\n",
              "      <td>2014-09-05</td>\n",
              "      <td>1261.0</td>\n",
              "      <td>491</td>\n",
              "    </tr>\n",
              "  </tbody>\n",
              "</table>\n",
              "</div>\n",
              "      <button class=\"colab-df-convert\" onclick=\"convertToInteractive('df-0abf72f5-3f7e-43df-82a1-ec0da4f1b7a9')\"\n",
              "              title=\"Convert this dataframe to an interactive table.\"\n",
              "              style=\"display:none;\">\n",
              "        \n",
              "  <svg xmlns=\"http://www.w3.org/2000/svg\" height=\"24px\"viewBox=\"0 0 24 24\"\n",
              "       width=\"24px\">\n",
              "    <path d=\"M0 0h24v24H0V0z\" fill=\"none\"/>\n",
              "    <path d=\"M18.56 5.44l.94 2.06.94-2.06 2.06-.94-2.06-.94-.94-2.06-.94 2.06-2.06.94zm-11 1L8.5 8.5l.94-2.06 2.06-.94-2.06-.94L8.5 2.5l-.94 2.06-2.06.94zm10 10l.94 2.06.94-2.06 2.06-.94-2.06-.94-.94-2.06-.94 2.06-2.06.94z\"/><path d=\"M17.41 7.96l-1.37-1.37c-.4-.4-.92-.59-1.43-.59-.52 0-1.04.2-1.43.59L10.3 9.45l-7.72 7.72c-.78.78-.78 2.05 0 2.83L4 21.41c.39.39.9.59 1.41.59.51 0 1.02-.2 1.41-.59l7.78-7.78 2.81-2.81c.8-.78.8-2.07 0-2.86zM5.41 20L4 18.59l7.72-7.72 1.47 1.35L5.41 20z\"/>\n",
              "  </svg>\n",
              "      </button>\n",
              "      \n",
              "  <style>\n",
              "    .colab-df-container {\n",
              "      display:flex;\n",
              "      flex-wrap:wrap;\n",
              "      gap: 12px;\n",
              "    }\n",
              "\n",
              "    .colab-df-convert {\n",
              "      background-color: #E8F0FE;\n",
              "      border: none;\n",
              "      border-radius: 50%;\n",
              "      cursor: pointer;\n",
              "      display: none;\n",
              "      fill: #1967D2;\n",
              "      height: 32px;\n",
              "      padding: 0 0 0 0;\n",
              "      width: 32px;\n",
              "    }\n",
              "\n",
              "    .colab-df-convert:hover {\n",
              "      background-color: #E2EBFA;\n",
              "      box-shadow: 0px 1px 2px rgba(60, 64, 67, 0.3), 0px 1px 3px 1px rgba(60, 64, 67, 0.15);\n",
              "      fill: #174EA6;\n",
              "    }\n",
              "\n",
              "    [theme=dark] .colab-df-convert {\n",
              "      background-color: #3B4455;\n",
              "      fill: #D2E3FC;\n",
              "    }\n",
              "\n",
              "    [theme=dark] .colab-df-convert:hover {\n",
              "      background-color: #434B5C;\n",
              "      box-shadow: 0px 1px 3px 1px rgba(0, 0, 0, 0.15);\n",
              "      filter: drop-shadow(0px 1px 2px rgba(0, 0, 0, 0.3));\n",
              "      fill: #FFFFFF;\n",
              "    }\n",
              "  </style>\n",
              "\n",
              "      <script>\n",
              "        const buttonEl =\n",
              "          document.querySelector('#df-0abf72f5-3f7e-43df-82a1-ec0da4f1b7a9 button.colab-df-convert');\n",
              "        buttonEl.style.display =\n",
              "          google.colab.kernel.accessAllowed ? 'block' : 'none';\n",
              "\n",
              "        async function convertToInteractive(key) {\n",
              "          const element = document.querySelector('#df-0abf72f5-3f7e-43df-82a1-ec0da4f1b7a9');\n",
              "          const dataTable =\n",
              "            await google.colab.kernel.invokeFunction('convertToInteractive',\n",
              "                                                     [key], {});\n",
              "          if (!dataTable) return;\n",
              "\n",
              "          const docLinkHtml = 'Like what you see? Visit the ' +\n",
              "            '<a target=\"_blank\" href=https://colab.research.google.com/notebooks/data_table.ipynb>data table notebook</a>'\n",
              "            + ' to learn more about interactive tables.';\n",
              "          element.innerHTML = '';\n",
              "          dataTable['output_type'] = 'display_data';\n",
              "          await google.colab.output.renderOutput(dataTable, element);\n",
              "          const docLink = document.createElement('div');\n",
              "          docLink.innerHTML = docLinkHtml;\n",
              "          element.appendChild(docLink);\n",
              "        }\n",
              "      </script>\n",
              "    </div>\n",
              "  </div>\n",
              "  "
            ]
          },
          "metadata": {},
          "execution_count": 2
        }
      ],
      "source": [
        "data = pd.read_excel(\"ebola_2014_2016.xlsx\")\n",
        "data.head()"
      ]
    },
    {
      "cell_type": "code",
      "execution_count": 3,
      "metadata": {
        "colab": {
          "base_uri": "https://localhost:8080/"
        },
        "id": "mONkWBmEANCV",
        "outputId": "3d3ec157-ee72-41d9-964e-30d99c006d4f"
      },
      "outputs": [
        {
          "output_type": "stream",
          "name": "stdout",
          "text": [
            "<class 'pandas.core.frame.DataFrame'>\n",
            "RangeIndex: 2485 entries, 0 to 2484\n",
            "Data columns (total 4 columns):\n",
            " #   Column   Non-Null Count  Dtype  \n",
            "---  ------   --------------  -----  \n",
            " 0   Country  2485 non-null   object \n",
            " 1   Date     2485 non-null   object \n",
            " 2   Cases    2477 non-null   float64\n",
            " 3   Deaths   2485 non-null   int64  \n",
            "dtypes: float64(1), int64(1), object(2)\n",
            "memory usage: 77.8+ KB\n"
          ]
        }
      ],
      "source": [
        "data.info()"
      ]
    },
    {
      "cell_type": "code",
      "execution_count": 4,
      "metadata": {
        "colab": {
          "base_uri": "https://localhost:8080/"
        },
        "id": "EZ1bkzzuAdmk",
        "outputId": "cfdcb6db-ac2c-40ba-82df-2f4ccc5ff162"
      },
      "outputs": [
        {
          "output_type": "execute_result",
          "data": {
            "text/plain": [
              "array(['2014-08-29', '2014-09-05', '2014-09-08', '2014-09-12',\n",
              "       '2014-09-16', '2014-09-18', '2014-09-22', '2014-09-24',\n",
              "       '2014-09-26', '2014-10-01', '2014-10-03', '2014-10-08',\n",
              "       '2014-10-10', '2014-10-15', '2014-10-17', '2014-10-22',\n",
              "       '2014-10-25', '2014-10-29', '2014-10-31', '2014-11-05',\n",
              "       '2014-11-07', '2014-11-12', '2014-11-14', '2014-11-19',\n",
              "       '2014-11-21', '2014-11-26', '2014-12-01', '2014-12-03',\n",
              "       '2014-12-10', '2014-12-15', '2014-12-17', '2014-12-22',\n",
              "       '2014-12-23', '2014-12-24', '2014-12-26', '2014-12-29',\n",
              "       '2014-12-30', '2014-12-31', '2015-01-02', '2015-01-05',\n",
              "       '2015-01-06', '2015-01-07', '2015-01-08', '2015-01-09',\n",
              "       '2015-01-12', '2015-01-13', '2015-01-14', '2015-01-15',\n",
              "       '2015-01-16', '2015-01-19', '2015-01-20', '2015-01-21',\n",
              "       '2015-01-22', '2015-01-23', '2015-01-26', '2015-01-27',\n",
              "       '2015-01-28', '2015-01-29', '2015-01-30', '2015-02-02',\n",
              "       '2015-02-03', '2015-02-04', '2015-02-05', '2015-02-06',\n",
              "       '2015-02-10', '2015-02-11', '2015-02-12', '2015-02-13',\n",
              "       '2015-02-16', '2015-02-17', '2015-02-18', '2015-02-19',\n",
              "       '2015-02-20', '2015-02-23', '2015-02-25', '2015-02-26',\n",
              "       '2015-02-27', '2015-03-02', '2015-03-04', '2015-03-05',\n",
              "       '2015-03-06', '2015-03-10', '2015-03-11', '2015-03-12',\n",
              "       '2015-03-13', '2015-03-16', '2015-03-17', '2015-03-18',\n",
              "       '2015-03-20', '2015-03-23', '2015-03-24', '2015-03-25',\n",
              "       '2015-03-26', '2015-03-27', '2015-04-07', '2015-04-09',\n",
              "       '2015-04-13', '2015-04-14', '2015-04-15', '2015-04-16',\n",
              "       '2015-04-17', '2015-04-20', '2015-04-21', '2015-04-22',\n",
              "       '2015-04-23', '2015-04-24', '2015-04-27', '2015-04-28',\n",
              "       '2015-04-30', '2015-05-01', '2015-05-04', '2015-05-05',\n",
              "       '2015-05-06', '2015-05-07', '2015-05-08', '2015-05-11',\n",
              "       '2015-05-12', '2015-05-13', '2015-05-14', '2015-05-15',\n",
              "       '2015-05-18', '2015-05-19', '2015-05-20', '2015-05-21',\n",
              "       '2015-05-22', '2015-05-25', '2015-05-26', '2015-05-27',\n",
              "       '2015-05-28', '2015-05-29', '2015-06-01', '2015-06-02',\n",
              "       '2015-06-03', '2015-06-04', '2015-06-05', '2015-06-08',\n",
              "       '2015-06-09', '2015-06-10', '2015-06-11', '2015-06-12',\n",
              "       '2015-06-15', '2015-06-16', '2015-06-17', '2015-06-18',\n",
              "       '2015-06-19', '2015-06-22', '2015-06-23', '2015-06-24',\n",
              "       '2015-06-25', '2015-06-26', '2015-06-29', '2015-06-30',\n",
              "       '2015-07-01', '2015-07-02', '2015-07-03', '2015-07-06',\n",
              "       '2015-07-07', '2015-07-08', '2015-07-09', '2015-07-10',\n",
              "       '2015-07-13', '2015-07-14', '2015-07-15', '2015-07-16',\n",
              "       '2015-07-17', '2015-07-20', '2015-07-21', '2015-07-22',\n",
              "       '2015-07-23', '2015-07-24', '2015-07-27', '2015-07-28',\n",
              "       '2015-07-29', '2015-07-30', '2015-07-31', '2015-08-03',\n",
              "       '2015-08-04', '2015-08-05', '2015-08-06', '2015-08-07',\n",
              "       '2015-08-10', '2015-08-11', '2015-08-12', '2015-08-13',\n",
              "       '2015-08-14', '2015-08-17', '2015-08-18', '2015-08-19',\n",
              "       '2015-08-20', '2015-08-21', '2015-08-24', '2015-08-25',\n",
              "       '2015-08-26', '2015-08-27', '2015-08-28', '2015-08-31',\n",
              "       '2015-09-01', '2015-09-02', '2015-09-03', '2015-09-04',\n",
              "       '2015-09-07', '2015-09-08', '2015-09-09', '2015-09-10',\n",
              "       '2015-09-11', '2015-09-14', '2015-09-15', '2015-09-16',\n",
              "       '2015-09-17', '2015-09-18', '2015-09-21', '2015-09-22',\n",
              "       '2015-09-23', '2015-09-24', '2015-09-25', '2015-09-28',\n",
              "       '2015-09-29', '2015-09-30', '2015-10-01', '2015-10-02',\n",
              "       '2015-10-05', '2015-10-06', '2015-10-07', '2015-10-08',\n",
              "       '2015-10-09', '2015-10-13', '2015-10-15', '2015-10-16',\n",
              "       '2015-10-20', '2015-10-22', '2015-10-23', '2015-10-26',\n",
              "       '2015-10-27', '2015-10-29', '2015-10-30', '2015-11-03',\n",
              "       '2015-11-05', '2015-11-06', '2015-11-10', '2015-11-11',\n",
              "       '2015-11-12', '2015-11-16', '2015-11-17', '2015-11-20',\n",
              "       '2015-11-24', '2015-11-26', '2015-12-01', '2015-12-02',\n",
              "       '2015-12-03', '2015-12-09', '2015-12-10', '2015-12-11',\n",
              "       '2015-12-15', '2015-12-16', '2015-12-17', '2015-12-22',\n",
              "       '2015-12-23', '2015-12-29', '2016-03-23'], dtype=object)"
            ]
          },
          "metadata": {},
          "execution_count": 4
        }
      ],
      "source": [
        "data['Date'].unique()"
      ]
    },
    {
      "cell_type": "code",
      "execution_count": 5,
      "metadata": {
        "colab": {
          "base_uri": "https://localhost:8080/",
          "height": 426
        },
        "id": "GMad-CykAvVk",
        "outputId": "c25246a7-003d-453c-82b9-2eeb50bc33b3"
      },
      "outputs": [
        {
          "output_type": "execute_result",
          "data": {
            "text/plain": [
              "                       Country        Date    Cases  Deaths\n",
              "2473                    Guinea  2016-03-23   3804.0    2536\n",
              "2474                     Spain  2016-03-23      1.0       0\n",
              "2475              Sierra Leone  2016-03-23  14122.0    3955\n",
              "2476                   Senegal  2016-03-23      1.0       0\n",
              "2477                      Mali  2016-03-23      8.0       6\n",
              "2478            United Kingdom  2016-03-23      1.0       0\n",
              "2479                   Liberia  2016-03-23      9.0       3\n",
              "2480                   Liberia  2016-03-23  10666.0    4806\n",
              "2481                     Italy  2016-03-23      1.0       0\n",
              "2482                   Liberia  2016-03-23      5.0       4\n",
              "2483                   Nigeria  2016-03-23     20.0       8\n",
              "2484  United States of America  2016-03-23      4.0       1"
            ],
            "text/html": [
              "\n",
              "  <div id=\"df-72cffae3-5547-4717-b3b9-c8426a3acb71\">\n",
              "    <div class=\"colab-df-container\">\n",
              "      <div>\n",
              "<style scoped>\n",
              "    .dataframe tbody tr th:only-of-type {\n",
              "        vertical-align: middle;\n",
              "    }\n",
              "\n",
              "    .dataframe tbody tr th {\n",
              "        vertical-align: top;\n",
              "    }\n",
              "\n",
              "    .dataframe thead th {\n",
              "        text-align: right;\n",
              "    }\n",
              "</style>\n",
              "<table border=\"1\" class=\"dataframe\">\n",
              "  <thead>\n",
              "    <tr style=\"text-align: right;\">\n",
              "      <th></th>\n",
              "      <th>Country</th>\n",
              "      <th>Date</th>\n",
              "      <th>Cases</th>\n",
              "      <th>Deaths</th>\n",
              "    </tr>\n",
              "  </thead>\n",
              "  <tbody>\n",
              "    <tr>\n",
              "      <th>2473</th>\n",
              "      <td>Guinea</td>\n",
              "      <td>2016-03-23</td>\n",
              "      <td>3804.0</td>\n",
              "      <td>2536</td>\n",
              "    </tr>\n",
              "    <tr>\n",
              "      <th>2474</th>\n",
              "      <td>Spain</td>\n",
              "      <td>2016-03-23</td>\n",
              "      <td>1.0</td>\n",
              "      <td>0</td>\n",
              "    </tr>\n",
              "    <tr>\n",
              "      <th>2475</th>\n",
              "      <td>Sierra Leone</td>\n",
              "      <td>2016-03-23</td>\n",
              "      <td>14122.0</td>\n",
              "      <td>3955</td>\n",
              "    </tr>\n",
              "    <tr>\n",
              "      <th>2476</th>\n",
              "      <td>Senegal</td>\n",
              "      <td>2016-03-23</td>\n",
              "      <td>1.0</td>\n",
              "      <td>0</td>\n",
              "    </tr>\n",
              "    <tr>\n",
              "      <th>2477</th>\n",
              "      <td>Mali</td>\n",
              "      <td>2016-03-23</td>\n",
              "      <td>8.0</td>\n",
              "      <td>6</td>\n",
              "    </tr>\n",
              "    <tr>\n",
              "      <th>2478</th>\n",
              "      <td>United Kingdom</td>\n",
              "      <td>2016-03-23</td>\n",
              "      <td>1.0</td>\n",
              "      <td>0</td>\n",
              "    </tr>\n",
              "    <tr>\n",
              "      <th>2479</th>\n",
              "      <td>Liberia</td>\n",
              "      <td>2016-03-23</td>\n",
              "      <td>9.0</td>\n",
              "      <td>3</td>\n",
              "    </tr>\n",
              "    <tr>\n",
              "      <th>2480</th>\n",
              "      <td>Liberia</td>\n",
              "      <td>2016-03-23</td>\n",
              "      <td>10666.0</td>\n",
              "      <td>4806</td>\n",
              "    </tr>\n",
              "    <tr>\n",
              "      <th>2481</th>\n",
              "      <td>Italy</td>\n",
              "      <td>2016-03-23</td>\n",
              "      <td>1.0</td>\n",
              "      <td>0</td>\n",
              "    </tr>\n",
              "    <tr>\n",
              "      <th>2482</th>\n",
              "      <td>Liberia</td>\n",
              "      <td>2016-03-23</td>\n",
              "      <td>5.0</td>\n",
              "      <td>4</td>\n",
              "    </tr>\n",
              "    <tr>\n",
              "      <th>2483</th>\n",
              "      <td>Nigeria</td>\n",
              "      <td>2016-03-23</td>\n",
              "      <td>20.0</td>\n",
              "      <td>8</td>\n",
              "    </tr>\n",
              "    <tr>\n",
              "      <th>2484</th>\n",
              "      <td>United States of America</td>\n",
              "      <td>2016-03-23</td>\n",
              "      <td>4.0</td>\n",
              "      <td>1</td>\n",
              "    </tr>\n",
              "  </tbody>\n",
              "</table>\n",
              "</div>\n",
              "      <button class=\"colab-df-convert\" onclick=\"convertToInteractive('df-72cffae3-5547-4717-b3b9-c8426a3acb71')\"\n",
              "              title=\"Convert this dataframe to an interactive table.\"\n",
              "              style=\"display:none;\">\n",
              "        \n",
              "  <svg xmlns=\"http://www.w3.org/2000/svg\" height=\"24px\"viewBox=\"0 0 24 24\"\n",
              "       width=\"24px\">\n",
              "    <path d=\"M0 0h24v24H0V0z\" fill=\"none\"/>\n",
              "    <path d=\"M18.56 5.44l.94 2.06.94-2.06 2.06-.94-2.06-.94-.94-2.06-.94 2.06-2.06.94zm-11 1L8.5 8.5l.94-2.06 2.06-.94-2.06-.94L8.5 2.5l-.94 2.06-2.06.94zm10 10l.94 2.06.94-2.06 2.06-.94-2.06-.94-.94-2.06-.94 2.06-2.06.94z\"/><path d=\"M17.41 7.96l-1.37-1.37c-.4-.4-.92-.59-1.43-.59-.52 0-1.04.2-1.43.59L10.3 9.45l-7.72 7.72c-.78.78-.78 2.05 0 2.83L4 21.41c.39.39.9.59 1.41.59.51 0 1.02-.2 1.41-.59l7.78-7.78 2.81-2.81c.8-.78.8-2.07 0-2.86zM5.41 20L4 18.59l7.72-7.72 1.47 1.35L5.41 20z\"/>\n",
              "  </svg>\n",
              "      </button>\n",
              "      \n",
              "  <style>\n",
              "    .colab-df-container {\n",
              "      display:flex;\n",
              "      flex-wrap:wrap;\n",
              "      gap: 12px;\n",
              "    }\n",
              "\n",
              "    .colab-df-convert {\n",
              "      background-color: #E8F0FE;\n",
              "      border: none;\n",
              "      border-radius: 50%;\n",
              "      cursor: pointer;\n",
              "      display: none;\n",
              "      fill: #1967D2;\n",
              "      height: 32px;\n",
              "      padding: 0 0 0 0;\n",
              "      width: 32px;\n",
              "    }\n",
              "\n",
              "    .colab-df-convert:hover {\n",
              "      background-color: #E2EBFA;\n",
              "      box-shadow: 0px 1px 2px rgba(60, 64, 67, 0.3), 0px 1px 3px 1px rgba(60, 64, 67, 0.15);\n",
              "      fill: #174EA6;\n",
              "    }\n",
              "\n",
              "    [theme=dark] .colab-df-convert {\n",
              "      background-color: #3B4455;\n",
              "      fill: #D2E3FC;\n",
              "    }\n",
              "\n",
              "    [theme=dark] .colab-df-convert:hover {\n",
              "      background-color: #434B5C;\n",
              "      box-shadow: 0px 1px 3px 1px rgba(0, 0, 0, 0.15);\n",
              "      filter: drop-shadow(0px 1px 2px rgba(0, 0, 0, 0.3));\n",
              "      fill: #FFFFFF;\n",
              "    }\n",
              "  </style>\n",
              "\n",
              "      <script>\n",
              "        const buttonEl =\n",
              "          document.querySelector('#df-72cffae3-5547-4717-b3b9-c8426a3acb71 button.colab-df-convert');\n",
              "        buttonEl.style.display =\n",
              "          google.colab.kernel.accessAllowed ? 'block' : 'none';\n",
              "\n",
              "        async function convertToInteractive(key) {\n",
              "          const element = document.querySelector('#df-72cffae3-5547-4717-b3b9-c8426a3acb71');\n",
              "          const dataTable =\n",
              "            await google.colab.kernel.invokeFunction('convertToInteractive',\n",
              "                                                     [key], {});\n",
              "          if (!dataTable) return;\n",
              "\n",
              "          const docLinkHtml = 'Like what you see? Visit the ' +\n",
              "            '<a target=\"_blank\" href=https://colab.research.google.com/notebooks/data_table.ipynb>data table notebook</a>'\n",
              "            + ' to learn more about interactive tables.';\n",
              "          element.innerHTML = '';\n",
              "          dataTable['output_type'] = 'display_data';\n",
              "          await google.colab.output.renderOutput(dataTable, element);\n",
              "          const docLink = document.createElement('div');\n",
              "          docLink.innerHTML = docLinkHtml;\n",
              "          element.appendChild(docLink);\n",
              "        }\n",
              "      </script>\n",
              "    </div>\n",
              "  </div>\n",
              "  "
            ]
          },
          "metadata": {},
          "execution_count": 5
        }
      ],
      "source": [
        "date = '2016-03-23'\n",
        "data[data['Date']==date]"
      ]
    },
    {
      "cell_type": "code",
      "execution_count": 6,
      "metadata": {
        "colab": {
          "base_uri": "https://localhost:8080/"
        },
        "id": "Rm00bG9qBP_4",
        "outputId": "f38bebe6-64ed-439f-f3b0-abaf7ecf49a3"
      },
      "outputs": [
        {
          "output_type": "execute_result",
          "data": {
            "text/plain": [
              "array(['Guinea', 'Italy', 'Liberia', 'Mali', 'Nigeria', 'Senegal',\n",
              "       'Sierra Leone', 'Spain', 'United Kingdom',\n",
              "       'United States of America'], dtype=object)"
            ]
          },
          "metadata": {},
          "execution_count": 6
        }
      ],
      "source": [
        "unique_countries = data[data.Cases>0]['Country'].unique()\n",
        "unique_countries.sort()\n",
        "unique_countries"
      ]
    },
    {
      "cell_type": "code",
      "execution_count": 7,
      "metadata": {
        "colab": {
          "base_uri": "https://localhost:8080/"
        },
        "id": "iP8Dvu9BBuw6",
        "outputId": "cd6bd265-54b4-4d8e-93d3-07f4030533bc"
      },
      "outputs": [
        {
          "output_type": "stream",
          "name": "stderr",
          "text": [
            "<ipython-input-7-9036a5a5d467>:3: UserWarning: Boolean Series key will be reindexed to match DataFrame index.\n",
            "  country_cases.append(data[data.Cases>0][data['Country']==i][data['Date']==date].Cases.sum())\n"
          ]
        }
      ],
      "source": [
        "country_cases = []\n",
        "for i in unique_countries:\n",
        "  country_cases.append(data[data.Cases>0][data['Country']==i][data['Date']==date].Cases.sum())\n",
        "  "
      ]
    },
    {
      "cell_type": "code",
      "execution_count": 8,
      "metadata": {
        "colab": {
          "base_uri": "https://localhost:8080/"
        },
        "id": "hV41kbVdCRoo",
        "outputId": "21e9500d-5134-457e-816f-52b27ccdc678"
      },
      "outputs": [
        {
          "output_type": "stream",
          "name": "stdout",
          "text": [
            "{('Nigeria', 20.0), ('Guinea', 3804.0), ('Liberia', 10680.0), ('Italy', 1.0), ('United Kingdom', 1.0), ('Mali', 8.0), ('Senegal', 1.0), ('Spain', 1.0), ('Sierra Leone', 14122.0), ('United States of America', 4.0)}\n"
          ]
        }
      ],
      "source": [
        "print(set(zip(unique_countries, country_cases)))"
      ]
    },
    {
      "cell_type": "code",
      "execution_count": 9,
      "metadata": {
        "colab": {
          "base_uri": "https://localhost:8080/",
          "height": 430
        },
        "id": "s4F4vhVgFnw3",
        "outputId": "0681dc15-8d4c-4cc1-d780-200cae00fb14"
      },
      "outputs": [
        {
          "output_type": "display_data",
          "data": {
            "text/plain": [
              "<Figure size 640x480 with 1 Axes>"
            ],
            "image/png": "[encoded data removed]"
          },
          "metadata": {}
        }
      ],
      "source": [
        "plt.barh(unique_countries, country_cases)\n",
        "plt.show()"
      ]
    },
    {
      "cell_type": "code",
      "execution_count": 10,
      "metadata": {
        "colab": {
          "base_uri": "https://localhost:8080/",
          "height": 807
        },
        "id": "0YV7RLRJGZd-",
        "outputId": "efc028ad-35ff-4f2f-a43d-72d74b3358e4"
      },
      "outputs": [
        {
          "output_type": "display_data",
          "data": {
            "text/plain": [
              "<Figure size 1000x1000 with 1 Axes>"
            ],
            "image/png": "[encoded data removed]"
          },
          "metadata": {}
        }
      ],
      "source": [
        "plt.figure(figsize=(10,10))\n",
        "plt.pie(country_cases)\n",
        "plt.legend(unique_countries, loc='best')\n",
        "plt.show()"
      ]
    }
  ],
  "metadata": {
    "colab": {
      "provenance": []
    },
    "kernelspec": {
      "display_name": "Python 3 (ipykernel)",
      "language": "python",
      "name": "python3"
    },
    "language_info": {
      "codemirror_mode": {
        "name": "ipython",
        "version": 3
      },
      "file_extension": ".py",
      "mimetype": "text/x-python",
      "name": "python",
      "nbconvert_exporter": "python",
      "pygments_lexer": "ipython3",
      "version": "3.9.5"
    }
  },
  "nbformat": 4,
  "nbformat_minor": 0
}